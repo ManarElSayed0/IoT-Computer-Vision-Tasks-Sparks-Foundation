{
 "cells": [
  {
   "cell_type": "markdown",
   "id": "a20221e5",
   "metadata": {},
   "source": [
    "## Name: Manar El Sayed\n",
    "## Domain: IoT and Computer Vision\n",
    "## Task 2: Color Indentification in Image\n",
    "## #GRIP_MARCH22"
   ]
  },
  {
   "cell_type": "code",
   "execution_count": 1,
   "id": "abfa3ca1",
   "metadata": {},
   "outputs": [],
   "source": [
    "import cv2 \n",
    "import pandas as pd\n",
    "import numpy as np"
   ]
  },
  {
   "cell_type": "code",
   "execution_count": 2,
   "id": "2e9cba1c",
   "metadata": {},
   "outputs": [],
   "source": [
    "img = cv2.imread(\"nature.PNG\")"
   ]
  },
  {
   "cell_type": "markdown",
   "id": "5e4681bf",
   "metadata": {},
   "source": [
    "#### load and read the CSV file and assign each column with a name in the index list for making access easier"
   ]
  },
  {
   "cell_type": "code",
   "execution_count": 3,
   "id": "fdcf5448",
   "metadata": {},
   "outputs": [],
   "source": [
    "index=[\"color\",\"color_name\",\"hex\",\"R\",\"G\",\"B\"]\n",
    "csv = pd.read_csv('colors-2.csv', names=index, header=None)"
   ]
  },
  {
   "cell_type": "code",
   "execution_count": 4,
   "id": "1125ef40",
   "metadata": {},
   "outputs": [],
   "source": [
    "#Initializing the variables\n",
    "clicked = False\n",
    "r = g = b = xpos = ypos = 0"
   ]
  },
  {
   "cell_type": "markdown",
   "id": "fa98615b",
   "metadata": {},
   "source": [
    "#### It will calculate the rgb values of the pixel which we double click and the (x,y) coordinates of the mouse position are saved"
   ]
  },
  {
   "cell_type": "code",
   "execution_count": 5,
   "id": "90c53049",
   "metadata": {},
   "outputs": [],
   "source": [
    "def call_back_function(event, x,y,flags,param):\n",
    "    if event == cv2.EVENT_LBUTTONDBLCLK:\n",
    "        global b,g,r,xpos,ypos, clicked\n",
    "        clicked = True\n",
    "        xpos = x\n",
    "        ypos = y\n",
    "        b,g,r = img[y,x]\n",
    "        b = int(b)\n",
    "        g = int(g)\n",
    "        r = int(r)"
   ]
  },
  {
   "cell_type": "markdown",
   "id": "5a04b3b7",
   "metadata": {},
   "source": [
    "#### after extracting the rgb values from the image,we need to change the rgb values to the color name"
   ]
  },
  {
   "cell_type": "code",
   "execution_count": 6,
   "id": "2fce747e",
   "metadata": {},
   "outputs": [],
   "source": [
    "def getColorName(R,G,B):\n",
    "    minimum = 10000\n",
    "    for i in range(len(csv)):\n",
    "        #d = abs(Red — ithRedColor) + (Green — ithGreenColor) + (Blue — ithBlueColor)\n",
    "        d = abs(R- int(csv.loc[i,\"R\"])) + abs(G- int(csv.loc[i,\"G\"]))+ abs(B- int(csv.loc[i,\"B\"]))\n",
    "        if(d<=minimum):\n",
    "            minimum = d\n",
    "            cname = csv.loc[i,\"color_name\"]\n",
    "    return cname"
   ]
  },
  {
   "cell_type": "markdown",
   "id": "65db5711",
   "metadata": {},
   "source": [
    "#### create a fresh window in which the input image will display. Then, we provide a callback function that will be activated only when a mouse event happens across the image"
   ]
  },
  {
   "cell_type": "code",
   "execution_count": 7,
   "id": "8b771168",
   "metadata": {},
   "outputs": [],
   "source": [
    "cv2.namedWindow('image')\n",
    "cv2.setMouseCallback('image',call_back_function)"
   ]
  },
  {
   "cell_type": "markdown",
   "id": "5b0ee912",
   "metadata": {},
   "source": [
    "#### Displaying Results on the window"
   ]
  },
  {
   "cell_type": "code",
   "execution_count": 8,
   "id": "853166c9",
   "metadata": {},
   "outputs": [],
   "source": [
    "while(1):\n",
    "    cv2.imshow(\"image\",img)\n",
    "    if (clicked):\n",
    "        #cv2.rectangle(image, startpoint, endpoint, color, thickness) -1 thickness fills rectangle entirely\n",
    "        cv2.rectangle(img,(20,20), (750,60), (b,g,r), -1)\n",
    "        #Creating text string to display ( Color name and RGB values )\n",
    "        text = getColorName(r,g,b) + ' R='+ str(r) + ' G='+ str(g) + ' B='+ str(b)\n",
    "        #cv2.putText(img,text,start,font(0-7), fontScale, color, thickness, lineType, (optional bottomLeft bool) )\n",
    "        cv2.putText(img, text,(50,50),2,0.8,(255,255,255),2,cv2.LINE_AA)\n",
    "  #For very light colours we will display text in black colour\n",
    "        if(r+g+b>=600):\n",
    "            cv2.putText(img, text,(50,50),2,0.8,(0,0,0),2,cv2.LINE_AA)\n",
    "        clicked=False\n",
    "    if cv2.waitKey(2) & 0XFF == ord('q'):\n",
    "        break\n",
    "        #breaks out of the loop as soon as we press 'q' from our keyboard\n",
    "cv2.destroyAllWindows()"
   ]
  },
  {
   "cell_type": "code",
   "execution_count": null,
   "id": "834b7f1c",
   "metadata": {},
   "outputs": [],
   "source": []
  }
 ],
 "metadata": {
  "kernelspec": {
   "display_name": "Python 3",
   "language": "python",
   "name": "python3"
  },
  "language_info": {
   "codemirror_mode": {
    "name": "ipython",
    "version": 3
   },
   "file_extension": ".py",
   "mimetype": "text/x-python",
   "name": "python",
   "nbconvert_exporter": "python",
   "pygments_lexer": "ipython3",
   "version": "3.8.8"
  }
 },
 "nbformat": 4,
 "nbformat_minor": 5
}
